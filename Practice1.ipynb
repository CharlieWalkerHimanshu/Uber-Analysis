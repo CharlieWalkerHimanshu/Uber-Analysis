{
 "cells": [
  {
   "cell_type": "code",
   "execution_count": 5,
   "id": "0b29f9ef-278b-4fdc-b3a1-8d6e7a98da77",
   "metadata": {},
   "outputs": [
    {
     "data": {
      "text/plain": [
       "'Hello World'"
      ]
     },
     "execution_count": 5,
     "metadata": {},
     "output_type": "execute_result"
    }
   ],
   "source": [
    "\"Hello World\""
   ]
  },
  {
   "cell_type": "code",
   "execution_count": null,
   "id": "f229d45b-cc19-4bc3-9242-a9761101b9d0",
   "metadata": {},
   "outputs": [],
   "source": []
  },
  {
   "cell_type": "markdown",
   "id": "d91bf6e4-b9e8-40c6-9863-e2b6415a7ad7",
   "metadata": {},
   "source": [
    "\"\"\"ram's is good\"\"\""
   ]
  },
  {
   "cell_type": "code",
   "execution_count": 13,
   "id": "4f920668-eaeb-499d-99a4-ae46d8b0971e",
   "metadata": {},
   "outputs": [
    {
     "data": {
      "text/plain": [
       "[1, 2.5, 'john', True, 1, 3.5]"
      ]
     },
     "execution_count": 13,
     "metadata": {},
     "output_type": "execute_result"
    }
   ],
   "source": [
    "my_list = [1, 2.5, 'john', True, 1, 3.5]\n",
    "my_list"
   ]
  },
  {
   "cell_type": "code",
   "execution_count": 14,
   "id": "e6d7b101-9e35-4fcf-9185-cd1c58f8a2d5",
   "metadata": {},
   "outputs": [
    {
     "data": {
      "text/plain": [
       "list"
      ]
     },
     "execution_count": 14,
     "metadata": {},
     "output_type": "execute_result"
    }
   ],
   "source": [
    "type(my_list)"
   ]
  },
  {
   "cell_type": "code",
   "execution_count": 15,
   "id": "f7db9a8a-1729-4c04-806f-96cc7bd50b6e",
   "metadata": {},
   "outputs": [
    {
     "data": {
      "text/plain": [
       "[1, 2.5, 'john', True, 1, 3.5]"
      ]
     },
     "execution_count": 15,
     "metadata": {},
     "output_type": "execute_result"
    }
   ],
   "source": [
    "my_list"
   ]
  },
  {
   "cell_type": "code",
   "execution_count": 16,
   "id": "777b9c75-37d1-44d4-b1d0-37aae67c0169",
   "metadata": {},
   "outputs": [
    {
     "data": {
      "text/plain": [
       "<function list.index(value, start=0, stop=9223372036854775807, /)>"
      ]
     },
     "execution_count": 16,
     "metadata": {},
     "output_type": "execute_result"
    }
   ],
   "source": [
    "my_list.index"
   ]
  },
  {
   "cell_type": "code",
   "execution_count": 23,
   "id": "b6f9d9a3-f3fa-40a1-a63c-6bebd89e0309",
   "metadata": {},
   "outputs": [
    {
     "data": {
      "text/plain": [
       "True"
      ]
     },
     "execution_count": 23,
     "metadata": {},
     "output_type": "execute_result"
    }
   ],
   "source": [
    "my_list[3]"
   ]
  },
  {
   "cell_type": "code",
   "execution_count": 29,
   "id": "43b1a56a-4a4b-4a73-a4ed-a67d8b1603a2",
   "metadata": {},
   "outputs": [],
   "source": [
    "my_list.append('Roy')"
   ]
  },
  {
   "cell_type": "code",
   "execution_count": 30,
   "id": "2157bf0e-b334-49ff-9845-d048b4d3e949",
   "metadata": {},
   "outputs": [
    {
     "data": {
      "text/plain": [
       "[1, 2.5, 'john', True, 1, 3.5, 'Roy', 'Roy', 'Roy', 'Roy', 'Roy', 'Roy']"
      ]
     },
     "execution_count": 30,
     "metadata": {},
     "output_type": "execute_result"
    }
   ],
   "source": [
    "my_list"
   ]
  },
  {
   "cell_type": "code",
   "execution_count": 31,
   "id": "da349da9-bd88-49fa-ad74-f77b5fa2ecc0",
   "metadata": {},
   "outputs": [],
   "source": [
    "my_list.remove('Roy')"
   ]
  },
  {
   "cell_type": "code",
   "execution_count": 32,
   "id": "4b1138a4-0fe7-4002-9b32-c24828ff5513",
   "metadata": {},
   "outputs": [
    {
     "data": {
      "text/plain": [
       "[1, 2.5, 'john', True, 1, 3.5, 'Roy', 'Roy', 'Roy', 'Roy', 'Roy']"
      ]
     },
     "execution_count": 32,
     "metadata": {},
     "output_type": "execute_result"
    }
   ],
   "source": [
    "my_list"
   ]
  },
  {
   "cell_type": "code",
   "execution_count": 33,
   "id": "c7394b20-f4d7-4dae-8fff-96c24cbe4e4c",
   "metadata": {},
   "outputs": [],
   "source": [
    "my_list[3] = 'Kris'"
   ]
  },
  {
   "cell_type": "code",
   "execution_count": 34,
   "id": "2d47d6df-a3c5-4a7c-bc61-423a993483b0",
   "metadata": {},
   "outputs": [
    {
     "data": {
      "text/plain": [
       "[1, 2.5, 'john', 'Kris', 1, 3.5, 'Roy', 'Roy', 'Roy', 'Roy', 'Roy']"
      ]
     },
     "execution_count": 34,
     "metadata": {},
     "output_type": "execute_result"
    }
   ],
   "source": [
    "my_list"
   ]
  },
  {
   "cell_type": "code",
   "execution_count": 38,
   "id": "18b4723c-e324-4218-a786-d11f5f33179e",
   "metadata": {},
   "outputs": [
    {
     "data": {
      "text/plain": [
       "(1, 'John', True, 9.4, 'Lazy', 'Delhi')"
      ]
     },
     "execution_count": 38,
     "metadata": {},
     "output_type": "execute_result"
    }
   ],
   "source": [
    "my_tuple = (1, 'John', True, 9.4, 'Lazy', 'Delhi')\n",
    "my_tuple"
   ]
  },
  {
   "cell_type": "code",
   "execution_count": 39,
   "id": "28040bd9-c5fe-421e-ad2f-901f8d3c8ad9",
   "metadata": {},
   "outputs": [
    {
     "data": {
      "text/plain": [
       "'John'"
      ]
     },
     "execution_count": 39,
     "metadata": {},
     "output_type": "execute_result"
    }
   ],
   "source": [
    "my_tuple[1]"
   ]
  },
  {
   "cell_type": "code",
   "execution_count": 40,
   "id": "da047afb-4e88-4a4e-9f34-14f9d89fb0cf",
   "metadata": {},
   "outputs": [
    {
     "name": "stdout",
     "output_type": "stream",
     "text": [
      "{1, 2, 3, 4}\n"
     ]
    }
   ],
   "source": [
    "my_set = {1,2,3,4,1,2}\n",
    "print(my_set)"
   ]
  },
  {
   "cell_type": "code",
   "execution_count": 41,
   "id": "830839ac-a023-4cde-8130-906cdecb94b0",
   "metadata": {},
   "outputs": [
    {
     "data": {
      "text/plain": [
       "set"
      ]
     },
     "execution_count": 41,
     "metadata": {},
     "output_type": "execute_result"
    }
   ],
   "source": [
    "type(my_set)"
   ]
  },
  {
   "cell_type": "code",
   "execution_count": 42,
   "id": "eba80453-46c5-4d53-9a38-c742cc5c8ac5",
   "metadata": {},
   "outputs": [
    {
     "data": {
      "text/plain": [
       "{1, 2, 4, 5, 6, 7}"
      ]
     },
     "execution_count": 42,
     "metadata": {},
     "output_type": "execute_result"
    }
   ],
   "source": [
    "my_set2 = {1,4,5,2,7,6}\n",
    "my_set2"
   ]
  },
  {
   "cell_type": "code",
   "execution_count": 43,
   "id": "63fd41a3-88fc-4f08-9b06-52eba955bff7",
   "metadata": {},
   "outputs": [
    {
     "data": {
      "text/plain": [
       "{'Name': 'John', 'Age': 54}"
      ]
     },
     "execution_count": 43,
     "metadata": {},
     "output_type": "execute_result"
    }
   ],
   "source": [
    "my_dict = { \"Name\" : \"John\",\n",
    " 'Age' : 54    \n",
    "}\n",
    "my_dict"
   ]
  },
  {
   "cell_type": "code",
   "execution_count": 44,
   "id": "56a01d62-6daf-4131-9094-f9ae33618c26",
   "metadata": {},
   "outputs": [
    {
     "data": {
      "text/plain": [
       "'Name'"
      ]
     },
     "execution_count": 44,
     "metadata": {},
     "output_type": "execute_result"
    }
   ],
   "source": [
    "list(my_dict.keys())[0]"
   ]
  },
  {
   "cell_type": "code",
   "execution_count": 45,
   "id": "a8bfcdcd-a60e-4d2c-9e2d-3dcca3aa0726",
   "metadata": {},
   "outputs": [
    {
     "data": {
      "text/plain": [
       "dict_keys(['Name', 'Age'])"
      ]
     },
     "execution_count": 45,
     "metadata": {},
     "output_type": "execute_result"
    }
   ],
   "source": [
    "my_dict.keys()"
   ]
  },
  {
   "cell_type": "code",
   "execution_count": 46,
   "id": "4da33a19-8d95-4fd4-931e-ac32bc8d1151",
   "metadata": {},
   "outputs": [
    {
     "data": {
      "text/plain": [
       "dict_values(['John', 54])"
      ]
     },
     "execution_count": 46,
     "metadata": {},
     "output_type": "execute_result"
    }
   ],
   "source": [
    "my_dict.values()"
   ]
  },
  {
   "cell_type": "code",
   "execution_count": 47,
   "id": "1827a9c9-2c4e-4612-b82c-e119721e480d",
   "metadata": {},
   "outputs": [
    {
     "data": {
      "text/plain": [
       "dict_items([('Name', 'John'), ('Age', 54)])"
      ]
     },
     "execution_count": 47,
     "metadata": {},
     "output_type": "execute_result"
    }
   ],
   "source": [
    "my_dict.items()"
   ]
  },
  {
   "cell_type": "code",
   "execution_count": null,
   "id": "4197173f-1fe4-4abc-8bac-6b8dfe613e3c",
   "metadata": {},
   "outputs": [],
   "source": []
  },
  {
   "cell_type": "code",
   "execution_count": 48,
   "id": "2dcb124a-1b9d-4e7a-bc05-515c81ff86f0",
   "metadata": {},
   "outputs": [],
   "source": [
    "my_list = [1, 2, 3] "
   ]
  },
  {
   "cell_type": "code",
   "execution_count": 49,
   "id": "da45bcf1-c027-472e-889c-490d6be61dff",
   "metadata": {},
   "outputs": [],
   "source": [
    "my_list.append([4, 5])"
   ]
  },
  {
   "cell_type": "code",
   "execution_count": 50,
   "id": "7554a5d6-94c3-4e38-a089-2783b082de4b",
   "metadata": {},
   "outputs": [
    {
     "data": {
      "text/plain": [
       "[1, 2, 3, [4, 5]]"
      ]
     },
     "execution_count": 50,
     "metadata": {},
     "output_type": "execute_result"
    }
   ],
   "source": [
    "my_list"
   ]
  },
  {
   "cell_type": "code",
   "execution_count": 51,
   "id": "a21a55a4-3d4d-4eda-af0e-73678d3de466",
   "metadata": {},
   "outputs": [
    {
     "name": "stdout",
     "output_type": "stream",
     "text": [
      "[1, 2, 3, [4, 5], 4, 5]\n"
     ]
    }
   ],
   "source": [
    "my_list.extend([4, 5]) \n",
    "print(my_list)"
   ]
  },
  {
   "cell_type": "code",
   "execution_count": 52,
   "id": "70dfcbdd-d3c2-429e-a97d-e512d70551e4",
   "metadata": {},
   "outputs": [
    {
     "name": "stdout",
     "output_type": "stream",
     "text": [
      "[1, 2, 3, 4, 5]\n"
     ]
    }
   ],
   "source": [
    "my_list.remove([4, 5]) \n",
    "print(my_list)"
   ]
  },
  {
   "cell_type": "code",
   "execution_count": null,
   "id": "abdd42d4-9a67-485d-a8f7-c6a03e162577",
   "metadata": {},
   "outputs": [],
   "source": []
  }
 ],
 "metadata": {
  "kernelspec": {
   "display_name": "Python 3 (ipykernel)",
   "language": "python",
   "name": "python3"
  },
  "language_info": {
   "codemirror_mode": {
    "name": "ipython",
    "version": 3
   },
   "file_extension": ".py",
   "mimetype": "text/x-python",
   "name": "python",
   "nbconvert_exporter": "python",
   "pygments_lexer": "ipython3",
   "version": "3.12.7"
  }
 },
 "nbformat": 4,
 "nbformat_minor": 5
}
