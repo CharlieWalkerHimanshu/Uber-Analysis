{
 "cells": [
  {
   "cell_type": "code",
   "execution_count": 1,
   "id": "729e27fa-3d07-4b70-9638-cc7190553fd0",
   "metadata": {},
   "outputs": [],
   "source": [
    "import numpy as np"
   ]
  },
  {
   "cell_type": "code",
   "execution_count": 5,
   "id": "e471b08c-fd95-4785-ac14-6de8e899f9cc",
   "metadata": {},
   "outputs": [
    {
     "data": {
      "text/plain": [
       "21.330729007701542"
      ]
     },
     "execution_count": 5,
     "metadata": {},
     "output_type": "execute_result"
    }
   ],
   "source": [
    "np.sqrt(455)"
   ]
  },
  {
   "cell_type": "code",
   "execution_count": 6,
   "id": "2308da44-91c9-4d29-b19d-525f232c75b6",
   "metadata": {},
   "outputs": [
    {
     "data": {
      "text/plain": [
       "5.2"
      ]
     },
     "execution_count": 6,
     "metadata": {},
     "output_type": "execute_result"
    }
   ],
   "source": [
    "np.log(np.exp(5.2))"
   ]
  },
  {
   "cell_type": "code",
   "execution_count": 7,
   "id": "809f8381-c4f6-4b2a-9b7f-75998e480256",
   "metadata": {},
   "outputs": [
    {
     "data": {
      "text/plain": [
       "-1.0"
      ]
     },
     "execution_count": 7,
     "metadata": {},
     "output_type": "execute_result"
    }
   ],
   "source": [
    "np.cos(np.pi)"
   ]
  },
  {
   "cell_type": "code",
   "execution_count": 10,
   "id": "44b69297-2c72-4859-8d05-a76a7dbe9913",
   "metadata": {},
   "outputs": [
    {
     "data": {
      "text/plain": [
       "array([1, 2, 3])"
      ]
     },
     "execution_count": 10,
     "metadata": {},
     "output_type": "execute_result"
    }
   ],
   "source": [
    "vec = np.array([1, 2, 3])\n",
    "vec"
   ]
  },
  {
   "cell_type": "code",
   "execution_count": 14,
   "id": "fbaf0285-25d1-4702-b3b9-bdefdc75e05e",
   "metadata": {},
   "outputs": [
    {
     "data": {
      "text/plain": [
       "array([[1, 2, 3],\n",
       "       [5, 6, 7],\n",
       "       [7, 8, 9]])"
      ]
     },
     "execution_count": 14,
     "metadata": {},
     "output_type": "execute_result"
    }
   ],
   "source": [
    "mat = np.array([[1,2,3],\n",
    "               [5,6,7],\n",
    "               [7,8,9]])\n",
    "mat"
   ]
  },
  {
   "cell_type": "code",
   "execution_count": 15,
   "id": "d73780ca-8692-41a3-a8b0-072b55d3e42f",
   "metadata": {},
   "outputs": [
    {
     "data": {
      "text/plain": [
       "array([14, 38, 50])"
      ]
     },
     "execution_count": 15,
     "metadata": {},
     "output_type": "execute_result"
    }
   ],
   "source": [
    "np.matmul(mat, vec)"
   ]
  },
  {
   "cell_type": "code",
   "execution_count": 18,
   "id": "cdc77550-39c2-4b9b-992a-72194ac8b46a",
   "metadata": {},
   "outputs": [
    {
     "data": {
      "text/plain": [
       "array([[1, 5, 7],\n",
       "       [2, 6, 8],\n",
       "       [3, 7, 9]])"
      ]
     },
     "execution_count": 18,
     "metadata": {},
     "output_type": "execute_result"
    }
   ],
   "source": [
    "mat.T"
   ]
  },
  {
   "cell_type": "code",
   "execution_count": 26,
   "id": "36b6a1d2-b658-4347-b999-e8b1b8e75d5d",
   "metadata": {},
   "outputs": [
    {
     "data": {
      "text/plain": [
       "array([ 0,  1,  2,  3,  4,  5,  6,  7,  8,  9, 10, 11, 12, 13, 14])"
      ]
     },
     "execution_count": 26,
     "metadata": {},
     "output_type": "execute_result"
    }
   ],
   "source": [
    "vec2 = np.arange(0, 15)\n",
    "vec2"
   ]
  },
  {
   "cell_type": "code",
   "execution_count": 27,
   "id": "4f180601-fa37-4bcd-8576-d59e32326e45",
   "metadata": {},
   "outputs": [
    {
     "data": {
      "text/plain": [
       "array([ 0,  3,  6,  9, 12])"
      ]
     },
     "execution_count": 27,
     "metadata": {},
     "output_type": "execute_result"
    }
   ],
   "source": [
    "vec3 = np.arange(0, 15, 3)\n",
    "vec3"
   ]
  },
  {
   "cell_type": "code",
   "execution_count": 31,
   "id": "86949b6c-bd88-41f0-84e4-16e505dc3b5f",
   "metadata": {},
   "outputs": [
    {
     "data": {
      "text/plain": [
       "array([0.        , 0.55555556, 1.11111111, 1.66666667, 2.22222222,\n",
       "       2.77777778, 3.33333333, 3.88888889, 4.44444444, 5.        ])"
      ]
     },
     "execution_count": 31,
     "metadata": {},
     "output_type": "execute_result"
    }
   ],
   "source": [
    "vec4 = np.linspace(0,5,10)\n",
    "vec4"
   ]
  },
  {
   "cell_type": "code",
   "execution_count": 32,
   "id": "932e0653-30ec-470f-b02b-2c72abd96d99",
   "metadata": {},
   "outputs": [
    {
     "data": {
      "text/plain": [
       "array([[0.        , 0.55555556],\n",
       "       [1.11111111, 1.66666667],\n",
       "       [2.22222222, 2.77777778],\n",
       "       [3.33333333, 3.88888889],\n",
       "       [4.44444444, 5.        ]])"
      ]
     },
     "execution_count": 32,
     "metadata": {},
     "output_type": "execute_result"
    }
   ],
   "source": [
    "vec4.reshape([5,2])"
   ]
  },
  {
   "cell_type": "code",
   "execution_count": 37,
   "id": "de228b5f-20e7-4ac4-ad2e-26ce0e1bad8d",
   "metadata": {},
   "outputs": [
    {
     "data": {
      "text/plain": [
       "array([1, 2, 3, 4, 5])"
      ]
     },
     "execution_count": 37,
     "metadata": {},
     "output_type": "execute_result"
    }
   ],
   "source": [
    "vec5 = np.arange(1,6)\n",
    "vec5"
   ]
  },
  {
   "cell_type": "code",
   "execution_count": 41,
   "id": "e4132227-a813-4a55-a8f0-f0e76589413f",
   "metadata": {},
   "outputs": [
    {
     "data": {
      "text/plain": [
       "array([3, 4, 5, 6, 7])"
      ]
     },
     "execution_count": 41,
     "metadata": {},
     "output_type": "execute_result"
    }
   ],
   "source": [
    "vec6 = np.arange(3,8)\n",
    "vec6"
   ]
  },
  {
   "cell_type": "code",
   "execution_count": 42,
   "id": "7710d1e0-6203-40dd-92ab-e43febd6effd",
   "metadata": {},
   "outputs": [
    {
     "data": {
      "text/plain": [
       "array([ 4,  6,  8, 10, 12])"
      ]
     },
     "execution_count": 42,
     "metadata": {},
     "output_type": "execute_result"
    }
   ],
   "source": [
    "vec5 + vec6"
   ]
  },
  {
   "cell_type": "code",
   "execution_count": 43,
   "id": "750bf26c-7b32-45a0-9664-e7351b59cb6c",
   "metadata": {},
   "outputs": [
    {
     "data": {
      "text/plain": [
       "array([0, 0, 0, 0, 0])"
      ]
     },
     "execution_count": 43,
     "metadata": {},
     "output_type": "execute_result"
    }
   ],
   "source": [
    "vec6 - vec6"
   ]
  },
  {
   "cell_type": "code",
   "execution_count": 45,
   "id": "f1faf5fa-80e9-47d3-9251-0ff4e05b32fc",
   "metadata": {},
   "outputs": [
    {
     "data": {
      "text/plain": [
       "array([ 3,  8, 15, 24, 35])"
      ]
     },
     "execution_count": 45,
     "metadata": {},
     "output_type": "execute_result"
    }
   ],
   "source": [
    "vec5 * vec6"
   ]
  },
  {
   "cell_type": "code",
   "execution_count": 46,
   "id": "7599b8fa-b54a-4661-bda7-8b877ab789ec",
   "metadata": {},
   "outputs": [
    {
     "data": {
      "text/plain": [
       "array([0.33333333, 0.5       , 0.6       , 0.66666667, 0.71428571])"
      ]
     },
     "execution_count": 46,
     "metadata": {},
     "output_type": "execute_result"
    }
   ],
   "source": [
    "vec5 / vec6"
   ]
  },
  {
   "cell_type": "code",
   "execution_count": 49,
   "id": "a1fb788f-42a2-4249-ab4c-f27fb2d8abdd",
   "metadata": {},
   "outputs": [
    {
     "data": {
      "text/plain": [
       "array([[ 0.43211757,  0.14414343, -0.23846039,  0.05381734,  1.2742755 ],\n",
       "       [-0.46263331, -1.34904612,  0.00508993,  0.87886933, -1.49268265],\n",
       "       [-0.07159164, -0.30901248,  0.49673025,  2.03260789,  1.87412395],\n",
       "       [ 0.06123763,  0.24825708,  1.12137891,  1.23540911,  1.08667415],\n",
       "       [-0.91044543,  1.32818159,  1.38114257, -0.84547784, -1.29862214]])"
      ]
     },
     "execution_count": 49,
     "metadata": {},
     "output_type": "execute_result"
    }
   ],
   "source": [
    "rand_mat = np.random.randn(5, 5)\n",
    "rand_mat"
   ]
  },
  {
   "cell_type": "code",
   "execution_count": 50,
   "id": "fb2791dc-a8f6-4849-9084-9046a506689e",
   "metadata": {},
   "outputs": [
    {
     "data": {
      "text/plain": [
       "0.2670433686631888"
      ]
     },
     "execution_count": 50,
     "metadata": {},
     "output_type": "execute_result"
    }
   ],
   "source": [
    "np.mean(rand_mat)"
   ]
  },
  {
   "cell_type": "code",
   "execution_count": 52,
   "id": "be41b400-fe94-4444-ae36-40d780d8ea62",
   "metadata": {},
   "outputs": [
    {
     "data": {
      "text/plain": [
       "0.9811355399567729"
      ]
     },
     "execution_count": 52,
     "metadata": {},
     "output_type": "execute_result"
    }
   ],
   "source": [
    "np.std(rand_mat) #standard deviation"
   ]
  },
  {
   "cell_type": "code",
   "execution_count": 53,
   "id": "1fcd42b8-98a0-435c-8294-cea97cbd86af",
   "metadata": {},
   "outputs": [
    {
     "data": {
      "text/plain": [
       "-1.4926826531857171"
      ]
     },
     "execution_count": 53,
     "metadata": {},
     "output_type": "execute_result"
    }
   ],
   "source": [
    "np.min(rand_mat)"
   ]
  },
  {
   "cell_type": "code",
   "execution_count": 54,
   "id": "94fa5e16-2ff7-4160-ac8a-4d51b0c80814",
   "metadata": {},
   "outputs": [
    {
     "data": {
      "text/plain": [
       "2.032607888238454"
      ]
     },
     "execution_count": 54,
     "metadata": {},
     "output_type": "execute_result"
    }
   ],
   "source": [
    "np.max(rand_mat)"
   ]
  },
  {
   "cell_type": "code",
   "execution_count": null,
   "id": "aca57a31-28b3-418f-84ed-b77603a09e0d",
   "metadata": {},
   "outputs": [],
   "source": []
  },
  {
   "cell_type": "code",
   "execution_count": 56,
   "id": "67f7ab4f-0803-41a8-af72-d8f964a869cb",
   "metadata": {},
   "outputs": [],
   "source": [
    "import numpy as np\n",
    "import pandas as pd"
   ]
  },
  {
   "cell_type": "code",
   "execution_count": 61,
   "id": "81003f95-c529-4db2-b77c-79a2e4007ec3",
   "metadata": {},
   "outputs": [
    {
     "data": {
      "text/plain": [
       "[5.5, 6.2, 1.7, 99.8]"
      ]
     },
     "execution_count": 61,
     "metadata": {},
     "output_type": "execute_result"
    }
   ],
   "source": [
    "my_list = [5.5, 6.2, 1.7, 99.8]\n",
    "myarray = np.array(my_list)\n",
    "my_list"
   ]
  },
  {
   "cell_type": "code",
   "execution_count": 64,
   "id": "cf7c75c7-dfd7-4a9f-8d57-f94d82cd490f",
   "metadata": {},
   "outputs": [
    {
     "data": {
      "text/plain": [
       "0     5.5\n",
       "1     6.2\n",
       "2     1.7\n",
       "3    99.8\n",
       "dtype: float64"
      ]
     },
     "execution_count": 64,
     "metadata": {},
     "output_type": "execute_result"
    }
   ],
   "source": [
    "myseries1 = pd.Series(data = myarray)\n",
    "myseries1"
   ]
  },
  {
   "cell_type": "code",
   "execution_count": 65,
   "id": "ef58c766-f27a-4ad6-836e-868b0266770c",
   "metadata": {},
   "outputs": [],
   "source": [
    "mylabels = ['first', 'second', 'thrid', 'fourth']"
   ]
  },
  {
   "cell_type": "code",
   "execution_count": 68,
   "id": "5fe2502e-9655-4c9f-a9bd-96248b99e840",
   "metadata": {},
   "outputs": [
    {
     "data": {
      "text/plain": [
       "first      5.5\n",
       "second     6.2\n",
       "thrid      1.7\n",
       "fourth    99.8\n",
       "dtype: float64"
      ]
     },
     "execution_count": 68,
     "metadata": {},
     "output_type": "execute_result"
    }
   ],
   "source": [
    "myseries2 = pd.Series(data = myarray, index = mylabels)\n",
    "myseries2"
   ]
  },
  {
   "cell_type": "code",
   "execution_count": 71,
   "id": "fbd3bb2c-5812-47e6-bd9e-f0cc01741c86",
   "metadata": {},
   "outputs": [
    {
     "data": {
      "text/plain": [
       "array([[-1.75084315,  2.1488781 , -0.26620462,  0.16229795, -1.66184697],\n",
       "       [-1.05163291, -0.35002894, -0.6168232 ,  2.30233647,  0.12593678],\n",
       "       [ 0.82460471,  0.26964996,  0.10781787,  1.11768824, -0.18182193],\n",
       "       [ 0.07614677, -0.68130111, -0.00254663,  0.15236597, -1.32899778],\n",
       "       [-1.15251691, -0.9056313 ,  1.24453647,  0.26141839,  1.15997755]])"
      ]
     },
     "execution_count": 71,
     "metadata": {},
     "output_type": "execute_result"
    }
   ],
   "source": [
    "data = np.random.randn(5,5)\n",
    "data"
   ]
  },
  {
   "cell_type": "code",
   "execution_count": 74,
   "id": "8ad7bcb8-f547-4fd9-bcc9-21b3170770b4",
   "metadata": {},
   "outputs": [
    {
     "data": {
      "text/html": [
       "<div>\n",
       "<style scoped>\n",
       "    .dataframe tbody tr th:only-of-type {\n",
       "        vertical-align: middle;\n",
       "    }\n",
       "\n",
       "    .dataframe tbody tr th {\n",
       "        vertical-align: top;\n",
       "    }\n",
       "\n",
       "    .dataframe thead th {\n",
       "        text-align: right;\n",
       "    }\n",
       "</style>\n",
       "<table border=\"1\" class=\"dataframe\">\n",
       "  <thead>\n",
       "    <tr style=\"text-align: right;\">\n",
       "      <th></th>\n",
       "      <th>0</th>\n",
       "      <th>1</th>\n",
       "      <th>2</th>\n",
       "      <th>3</th>\n",
       "      <th>4</th>\n",
       "    </tr>\n",
       "  </thead>\n",
       "  <tbody>\n",
       "    <tr>\n",
       "      <th>0</th>\n",
       "      <td>-1.750843</td>\n",
       "      <td>2.148878</td>\n",
       "      <td>-0.266205</td>\n",
       "      <td>0.162298</td>\n",
       "      <td>-1.661847</td>\n",
       "    </tr>\n",
       "    <tr>\n",
       "      <th>1</th>\n",
       "      <td>-1.051633</td>\n",
       "      <td>-0.350029</td>\n",
       "      <td>-0.616823</td>\n",
       "      <td>2.302336</td>\n",
       "      <td>0.125937</td>\n",
       "    </tr>\n",
       "    <tr>\n",
       "      <th>2</th>\n",
       "      <td>0.824605</td>\n",
       "      <td>0.269650</td>\n",
       "      <td>0.107818</td>\n",
       "      <td>1.117688</td>\n",
       "      <td>-0.181822</td>\n",
       "    </tr>\n",
       "    <tr>\n",
       "      <th>3</th>\n",
       "      <td>0.076147</td>\n",
       "      <td>-0.681301</td>\n",
       "      <td>-0.002547</td>\n",
       "      <td>0.152366</td>\n",
       "      <td>-1.328998</td>\n",
       "    </tr>\n",
       "    <tr>\n",
       "      <th>4</th>\n",
       "      <td>-1.152517</td>\n",
       "      <td>-0.905631</td>\n",
       "      <td>1.244536</td>\n",
       "      <td>0.261418</td>\n",
       "      <td>1.159978</td>\n",
       "    </tr>\n",
       "  </tbody>\n",
       "</table>\n",
       "</div>"
      ],
      "text/plain": [
       "          0         1         2         3         4\n",
       "0 -1.750843  2.148878 -0.266205  0.162298 -1.661847\n",
       "1 -1.051633 -0.350029 -0.616823  2.302336  0.125937\n",
       "2  0.824605  0.269650  0.107818  1.117688 -0.181822\n",
       "3  0.076147 -0.681301 -0.002547  0.152366 -1.328998\n",
       "4 -1.152517 -0.905631  1.244536  0.261418  1.159978"
      ]
     },
     "execution_count": 74,
     "metadata": {},
     "output_type": "execute_result"
    }
   ],
   "source": [
    "df = pd.DataFrame(data)\n",
    "df"
   ]
  },
  {
   "cell_type": "code",
   "execution_count": 75,
   "id": "93fe1609-d848-4244-ab0e-af3ee361deef",
   "metadata": {},
   "outputs": [
    {
     "data": {
      "text/html": [
       "<div>\n",
       "<style scoped>\n",
       "    .dataframe tbody tr th:only-of-type {\n",
       "        vertical-align: middle;\n",
       "    }\n",
       "\n",
       "    .dataframe tbody tr th {\n",
       "        vertical-align: top;\n",
       "    }\n",
       "\n",
       "    .dataframe thead th {\n",
       "        text-align: right;\n",
       "    }\n",
       "</style>\n",
       "<table border=\"1\" class=\"dataframe\">\n",
       "  <thead>\n",
       "    <tr style=\"text-align: right;\">\n",
       "      <th></th>\n",
       "      <th>first_col</th>\n",
       "      <th>second_col</th>\n",
       "      <th>third_col</th>\n",
       "      <th>fourth_col</th>\n",
       "      <th>fifth_col</th>\n",
       "    </tr>\n",
       "  </thead>\n",
       "  <tbody>\n",
       "    <tr>\n",
       "      <th>first_row</th>\n",
       "      <td>-1.750843</td>\n",
       "      <td>2.148878</td>\n",
       "      <td>-0.266205</td>\n",
       "      <td>0.162298</td>\n",
       "      <td>-1.661847</td>\n",
       "    </tr>\n",
       "    <tr>\n",
       "      <th>second_row</th>\n",
       "      <td>-1.051633</td>\n",
       "      <td>-0.350029</td>\n",
       "      <td>-0.616823</td>\n",
       "      <td>2.302336</td>\n",
       "      <td>0.125937</td>\n",
       "    </tr>\n",
       "    <tr>\n",
       "      <th>third_row</th>\n",
       "      <td>0.824605</td>\n",
       "      <td>0.269650</td>\n",
       "      <td>0.107818</td>\n",
       "      <td>1.117688</td>\n",
       "      <td>-0.181822</td>\n",
       "    </tr>\n",
       "    <tr>\n",
       "      <th>fourth_row</th>\n",
       "      <td>0.076147</td>\n",
       "      <td>-0.681301</td>\n",
       "      <td>-0.002547</td>\n",
       "      <td>0.152366</td>\n",
       "      <td>-1.328998</td>\n",
       "    </tr>\n",
       "    <tr>\n",
       "      <th>fifth_row</th>\n",
       "      <td>-1.152517</td>\n",
       "      <td>-0.905631</td>\n",
       "      <td>1.244536</td>\n",
       "      <td>0.261418</td>\n",
       "      <td>1.159978</td>\n",
       "    </tr>\n",
       "  </tbody>\n",
       "</table>\n",
       "</div>"
      ],
      "text/plain": [
       "            first_col  second_col  third_col  fourth_col  fifth_col\n",
       "first_row   -1.750843    2.148878  -0.266205    0.162298  -1.661847\n",
       "second_row  -1.051633   -0.350029  -0.616823    2.302336   0.125937\n",
       "third_row    0.824605    0.269650   0.107818    1.117688  -0.181822\n",
       "fourth_row   0.076147   -0.681301  -0.002547    0.152366  -1.328998\n",
       "fifth_row   -1.152517   -0.905631   1.244536    0.261418   1.159978"
      ]
     },
     "execution_count": 75,
     "metadata": {},
     "output_type": "execute_result"
    }
   ],
   "source": [
    "df1 = pd.DataFrame(data, index = ['first_row', 'second_row','third_row','fourth_row','fifth_row'],\n",
    "                  columns = ['first_col', 'second_col', 'third_col', 'fourth_col','fifth_col'])\n",
    "df1"
   ]
  },
  {
   "cell_type": "code",
   "execution_count": 82,
   "id": "0ba72911-0005-4007-825e-1d278a07dc3f",
   "metadata": {},
   "outputs": [
    {
     "data": {
      "text/html": [
       "<div>\n",
       "<style scoped>\n",
       "    .dataframe tbody tr th:only-of-type {\n",
       "        vertical-align: middle;\n",
       "    }\n",
       "\n",
       "    .dataframe tbody tr th {\n",
       "        vertical-align: top;\n",
       "    }\n",
       "\n",
       "    .dataframe thead th {\n",
       "        text-align: right;\n",
       "    }\n",
       "</style>\n",
       "<table border=\"1\" class=\"dataframe\">\n",
       "  <thead>\n",
       "    <tr style=\"text-align: right;\">\n",
       "      <th></th>\n",
       "      <th>second_col</th>\n",
       "      <th>fourth_col</th>\n",
       "    </tr>\n",
       "  </thead>\n",
       "  <tbody>\n",
       "    <tr>\n",
       "      <th>first_row</th>\n",
       "      <td>2.148878</td>\n",
       "      <td>0.162298</td>\n",
       "    </tr>\n",
       "    <tr>\n",
       "      <th>second_row</th>\n",
       "      <td>-0.350029</td>\n",
       "      <td>2.302336</td>\n",
       "    </tr>\n",
       "    <tr>\n",
       "      <th>third_row</th>\n",
       "      <td>0.269650</td>\n",
       "      <td>1.117688</td>\n",
       "    </tr>\n",
       "    <tr>\n",
       "      <th>fourth_row</th>\n",
       "      <td>-0.681301</td>\n",
       "      <td>0.152366</td>\n",
       "    </tr>\n",
       "    <tr>\n",
       "      <th>fifth_row</th>\n",
       "      <td>-0.905631</td>\n",
       "      <td>0.261418</td>\n",
       "    </tr>\n",
       "  </tbody>\n",
       "</table>\n",
       "</div>"
      ],
      "text/plain": [
       "            second_col  fourth_col\n",
       "first_row     2.148878    0.162298\n",
       "second_row   -0.350029    2.302336\n",
       "third_row     0.269650    1.117688\n",
       "fourth_row   -0.681301    0.152366\n",
       "fifth_row    -0.905631    0.261418"
      ]
     },
     "execution_count": 82,
     "metadata": {},
     "output_type": "execute_result"
    }
   ],
   "source": [
    "df1[['second_col', 'fourth_col']]"
   ]
  },
  {
   "cell_type": "code",
   "execution_count": 87,
   "id": "6805b910-50b5-480b-9a0f-1477383307b7",
   "metadata": {},
   "outputs": [
    {
     "data": {
      "text/html": [
       "<div>\n",
       "<style scoped>\n",
       "    .dataframe tbody tr th:only-of-type {\n",
       "        vertical-align: middle;\n",
       "    }\n",
       "\n",
       "    .dataframe tbody tr th {\n",
       "        vertical-align: top;\n",
       "    }\n",
       "\n",
       "    .dataframe thead th {\n",
       "        text-align: right;\n",
       "    }\n",
       "</style>\n",
       "<table border=\"1\" class=\"dataframe\">\n",
       "  <thead>\n",
       "    <tr style=\"text-align: right;\">\n",
       "      <th></th>\n",
       "      <th>second_col</th>\n",
       "    </tr>\n",
       "  </thead>\n",
       "  <tbody>\n",
       "    <tr>\n",
       "      <th>third_row</th>\n",
       "      <td>0.26965</td>\n",
       "    </tr>\n",
       "  </tbody>\n",
       "</table>\n",
       "</div>"
      ],
      "text/plain": [
       "           second_col\n",
       "third_row     0.26965"
      ]
     },
     "execution_count": 87,
     "metadata": {},
     "output_type": "execute_result"
    }
   ],
   "source": [
    "df1.loc[['third_row'],['second_col']]"
   ]
  },
  {
   "cell_type": "code",
   "execution_count": 89,
   "id": "049f8605-bcfb-46e6-87f5-ec3a0f6381d5",
   "metadata": {},
   "outputs": [
    {
     "data": {
      "text/plain": [
       "first_col    -1.051633\n",
       "second_col   -0.350029\n",
       "third_col    -0.616823\n",
       "fourth_col    2.302336\n",
       "fifth_col     0.125937\n",
       "Name: second_row, dtype: float64"
      ]
     },
     "execution_count": 89,
     "metadata": {},
     "output_type": "execute_result"
    }
   ],
   "source": [
    "df1.loc['second_row']"
   ]
  },
  {
   "cell_type": "code",
   "execution_count": 90,
   "id": "ad2e7f9a-1a33-457d-9637-1e9685aee505",
   "metadata": {},
   "outputs": [
    {
     "data": {
      "text/plain": [
       "first_col    -1.051633\n",
       "second_col   -0.350029\n",
       "third_col    -0.616823\n",
       "fourth_col    2.302336\n",
       "fifth_col     0.125937\n",
       "Name: second_row, dtype: float64"
      ]
     },
     "execution_count": 90,
     "metadata": {},
     "output_type": "execute_result"
    }
   ],
   "source": [
    "df1.iloc[1]"
   ]
  },
  {
   "cell_type": "code",
   "execution_count": 91,
   "id": "b77dd27d-912f-4c5e-9d8f-537fdce46c4c",
   "metadata": {},
   "outputs": [
    {
     "data": {
      "text/html": [
       "<div>\n",
       "<style scoped>\n",
       "    .dataframe tbody tr th:only-of-type {\n",
       "        vertical-align: middle;\n",
       "    }\n",
       "\n",
       "    .dataframe tbody tr th {\n",
       "        vertical-align: top;\n",
       "    }\n",
       "\n",
       "    .dataframe thead th {\n",
       "        text-align: right;\n",
       "    }\n",
       "</style>\n",
       "<table border=\"1\" class=\"dataframe\">\n",
       "  <thead>\n",
       "    <tr style=\"text-align: right;\">\n",
       "      <th></th>\n",
       "      <th>first_col</th>\n",
       "      <th>second_col</th>\n",
       "      <th>third_col</th>\n",
       "      <th>fourth_col</th>\n",
       "      <th>fifth_col</th>\n",
       "    </tr>\n",
       "  </thead>\n",
       "  <tbody>\n",
       "    <tr>\n",
       "      <th>first_row</th>\n",
       "      <td>NaN</td>\n",
       "      <td>NaN</td>\n",
       "      <td>NaN</td>\n",
       "      <td>NaN</td>\n",
       "      <td>NaN</td>\n",
       "    </tr>\n",
       "    <tr>\n",
       "      <th>second_row</th>\n",
       "      <td>NaN</td>\n",
       "      <td>NaN</td>\n",
       "      <td>NaN</td>\n",
       "      <td>NaN</td>\n",
       "      <td>NaN</td>\n",
       "    </tr>\n",
       "    <tr>\n",
       "      <th>third_row</th>\n",
       "      <td>NaN</td>\n",
       "      <td>NaN</td>\n",
       "      <td>NaN</td>\n",
       "      <td>NaN</td>\n",
       "      <td>NaN</td>\n",
       "    </tr>\n",
       "    <tr>\n",
       "      <th>fourth_row</th>\n",
       "      <td>NaN</td>\n",
       "      <td>NaN</td>\n",
       "      <td>NaN</td>\n",
       "      <td>NaN</td>\n",
       "      <td>NaN</td>\n",
       "    </tr>\n",
       "    <tr>\n",
       "      <th>fifth_row</th>\n",
       "      <td>NaN</td>\n",
       "      <td>NaN</td>\n",
       "      <td>NaN</td>\n",
       "      <td>NaN</td>\n",
       "      <td>NaN</td>\n",
       "    </tr>\n",
       "  </tbody>\n",
       "</table>\n",
       "</div>"
      ],
      "text/plain": [
       "            first_col  second_col  third_col  fourth_col  fifth_col\n",
       "first_row         NaN         NaN        NaN         NaN        NaN\n",
       "second_row        NaN         NaN        NaN         NaN        NaN\n",
       "third_row         NaN         NaN        NaN         NaN        NaN\n",
       "fourth_row        NaN         NaN        NaN         NaN        NaN\n",
       "fifth_row         NaN         NaN        NaN         NaN        NaN"
      ]
     },
     "execution_count": 91,
     "metadata": {},
     "output_type": "execute_result"
    }
   ],
   "source": [
    "df1[df>0]"
   ]
  },
  {
   "cell_type": "code",
   "execution_count": 96,
   "id": "43f760f8-0cec-4bdb-91e4-047a15724597",
   "metadata": {},
   "outputs": [],
   "source": [
    "df1['sixth_col'] = np.random.randn(5,1)"
   ]
  },
  {
   "cell_type": "code",
   "execution_count": 97,
   "id": "4cf0982d-48ae-4fa8-b296-eaaab09ac5e7",
   "metadata": {},
   "outputs": [
    {
     "data": {
      "text/html": [
       "<div>\n",
       "<style scoped>\n",
       "    .dataframe tbody tr th:only-of-type {\n",
       "        vertical-align: middle;\n",
       "    }\n",
       "\n",
       "    .dataframe tbody tr th {\n",
       "        vertical-align: top;\n",
       "    }\n",
       "\n",
       "    .dataframe thead th {\n",
       "        text-align: right;\n",
       "    }\n",
       "</style>\n",
       "<table border=\"1\" class=\"dataframe\">\n",
       "  <thead>\n",
       "    <tr style=\"text-align: right;\">\n",
       "      <th></th>\n",
       "      <th>first_col</th>\n",
       "      <th>second_col</th>\n",
       "      <th>third_col</th>\n",
       "      <th>fourth_col</th>\n",
       "      <th>fifth_col</th>\n",
       "      <th>sixth_col</th>\n",
       "    </tr>\n",
       "  </thead>\n",
       "  <tbody>\n",
       "    <tr>\n",
       "      <th>first_row</th>\n",
       "      <td>-1.750843</td>\n",
       "      <td>2.148878</td>\n",
       "      <td>-0.266205</td>\n",
       "      <td>0.162298</td>\n",
       "      <td>-1.661847</td>\n",
       "      <td>-0.251763</td>\n",
       "    </tr>\n",
       "    <tr>\n",
       "      <th>second_row</th>\n",
       "      <td>-1.051633</td>\n",
       "      <td>-0.350029</td>\n",
       "      <td>-0.616823</td>\n",
       "      <td>2.302336</td>\n",
       "      <td>0.125937</td>\n",
       "      <td>0.587723</td>\n",
       "    </tr>\n",
       "    <tr>\n",
       "      <th>third_row</th>\n",
       "      <td>0.824605</td>\n",
       "      <td>0.269650</td>\n",
       "      <td>0.107818</td>\n",
       "      <td>1.117688</td>\n",
       "      <td>-0.181822</td>\n",
       "      <td>1.410719</td>\n",
       "    </tr>\n",
       "    <tr>\n",
       "      <th>fourth_row</th>\n",
       "      <td>0.076147</td>\n",
       "      <td>-0.681301</td>\n",
       "      <td>-0.002547</td>\n",
       "      <td>0.152366</td>\n",
       "      <td>-1.328998</td>\n",
       "      <td>2.037339</td>\n",
       "    </tr>\n",
       "    <tr>\n",
       "      <th>fifth_row</th>\n",
       "      <td>-1.152517</td>\n",
       "      <td>-0.905631</td>\n",
       "      <td>1.244536</td>\n",
       "      <td>0.261418</td>\n",
       "      <td>1.159978</td>\n",
       "      <td>0.549386</td>\n",
       "    </tr>\n",
       "  </tbody>\n",
       "</table>\n",
       "</div>"
      ],
      "text/plain": [
       "            first_col  second_col  third_col  fourth_col  fifth_col  sixth_col\n",
       "first_row   -1.750843    2.148878  -0.266205    0.162298  -1.661847  -0.251763\n",
       "second_row  -1.051633   -0.350029  -0.616823    2.302336   0.125937   0.587723\n",
       "third_row    0.824605    0.269650   0.107818    1.117688  -0.181822   1.410719\n",
       "fourth_row   0.076147   -0.681301  -0.002547    0.152366  -1.328998   2.037339\n",
       "fifth_row   -1.152517   -0.905631   1.244536    0.261418   1.159978   0.549386"
      ]
     },
     "execution_count": 97,
     "metadata": {},
     "output_type": "execute_result"
    }
   ],
   "source": [
    "df1"
   ]
  },
  {
   "cell_type": "code",
   "execution_count": 100,
   "id": "bdd09ca7-0fbc-4073-b92e-c3d31db209ef",
   "metadata": {},
   "outputs": [],
   "source": [
    "df1.drop('third_col', axis = 1, inplace = True)"
   ]
  },
  {
   "cell_type": "code",
   "execution_count": 101,
   "id": "93d347be-567e-453f-8a0e-756d28939282",
   "metadata": {},
   "outputs": [
    {
     "data": {
      "text/html": [
       "<div>\n",
       "<style scoped>\n",
       "    .dataframe tbody tr th:only-of-type {\n",
       "        vertical-align: middle;\n",
       "    }\n",
       "\n",
       "    .dataframe tbody tr th {\n",
       "        vertical-align: top;\n",
       "    }\n",
       "\n",
       "    .dataframe thead th {\n",
       "        text-align: right;\n",
       "    }\n",
       "</style>\n",
       "<table border=\"1\" class=\"dataframe\">\n",
       "  <thead>\n",
       "    <tr style=\"text-align: right;\">\n",
       "      <th></th>\n",
       "      <th>first_col</th>\n",
       "      <th>second_col</th>\n",
       "      <th>fourth_col</th>\n",
       "      <th>fifth_col</th>\n",
       "      <th>sixth_col</th>\n",
       "    </tr>\n",
       "  </thead>\n",
       "  <tbody>\n",
       "    <tr>\n",
       "      <th>first_row</th>\n",
       "      <td>-1.750843</td>\n",
       "      <td>2.148878</td>\n",
       "      <td>0.162298</td>\n",
       "      <td>-1.661847</td>\n",
       "      <td>-0.251763</td>\n",
       "    </tr>\n",
       "    <tr>\n",
       "      <th>second_row</th>\n",
       "      <td>-1.051633</td>\n",
       "      <td>-0.350029</td>\n",
       "      <td>2.302336</td>\n",
       "      <td>0.125937</td>\n",
       "      <td>0.587723</td>\n",
       "    </tr>\n",
       "    <tr>\n",
       "      <th>third_row</th>\n",
       "      <td>0.824605</td>\n",
       "      <td>0.269650</td>\n",
       "      <td>1.117688</td>\n",
       "      <td>-0.181822</td>\n",
       "      <td>1.410719</td>\n",
       "    </tr>\n",
       "    <tr>\n",
       "      <th>fourth_row</th>\n",
       "      <td>0.076147</td>\n",
       "      <td>-0.681301</td>\n",
       "      <td>0.152366</td>\n",
       "      <td>-1.328998</td>\n",
       "      <td>2.037339</td>\n",
       "    </tr>\n",
       "    <tr>\n",
       "      <th>fifth_row</th>\n",
       "      <td>-1.152517</td>\n",
       "      <td>-0.905631</td>\n",
       "      <td>0.261418</td>\n",
       "      <td>1.159978</td>\n",
       "      <td>0.549386</td>\n",
       "    </tr>\n",
       "  </tbody>\n",
       "</table>\n",
       "</div>"
      ],
      "text/plain": [
       "            first_col  second_col  fourth_col  fifth_col  sixth_col\n",
       "first_row   -1.750843    2.148878    0.162298  -1.661847  -0.251763\n",
       "second_row  -1.051633   -0.350029    2.302336   0.125937   0.587723\n",
       "third_row    0.824605    0.269650    1.117688  -0.181822   1.410719\n",
       "fourth_row   0.076147   -0.681301    0.152366  -1.328998   2.037339\n",
       "fifth_row   -1.152517   -0.905631    0.261418   1.159978   0.549386"
      ]
     },
     "execution_count": 101,
     "metadata": {},
     "output_type": "execute_result"
    }
   ],
   "source": [
    "df1"
   ]
  },
  {
   "cell_type": "code",
   "execution_count": 103,
   "id": "5c723898-5ea0-4715-80c7-652e147aaf06",
   "metadata": {},
   "outputs": [
    {
     "data": {
      "text/html": [
       "<div>\n",
       "<style scoped>\n",
       "    .dataframe tbody tr th:only-of-type {\n",
       "        vertical-align: middle;\n",
       "    }\n",
       "\n",
       "    .dataframe tbody tr th {\n",
       "        vertical-align: top;\n",
       "    }\n",
       "\n",
       "    .dataframe thead th {\n",
       "        text-align: right;\n",
       "    }\n",
       "</style>\n",
       "<table border=\"1\" class=\"dataframe\">\n",
       "  <thead>\n",
       "    <tr style=\"text-align: right;\">\n",
       "      <th></th>\n",
       "      <th>first_col</th>\n",
       "      <th>second_col</th>\n",
       "      <th>fourth_col</th>\n",
       "      <th>fifth_col</th>\n",
       "      <th>sixth_col</th>\n",
       "    </tr>\n",
       "  </thead>\n",
       "  <tbody>\n",
       "    <tr>\n",
       "      <th>first_row</th>\n",
       "      <td>-1.750843</td>\n",
       "      <td>2.148878</td>\n",
       "      <td>0.162298</td>\n",
       "      <td>-1.661847</td>\n",
       "      <td>-0.251763</td>\n",
       "    </tr>\n",
       "    <tr>\n",
       "      <th>third_row</th>\n",
       "      <td>0.824605</td>\n",
       "      <td>0.269650</td>\n",
       "      <td>1.117688</td>\n",
       "      <td>-0.181822</td>\n",
       "      <td>1.410719</td>\n",
       "    </tr>\n",
       "    <tr>\n",
       "      <th>fourth_row</th>\n",
       "      <td>0.076147</td>\n",
       "      <td>-0.681301</td>\n",
       "      <td>0.152366</td>\n",
       "      <td>-1.328998</td>\n",
       "      <td>2.037339</td>\n",
       "    </tr>\n",
       "    <tr>\n",
       "      <th>fifth_row</th>\n",
       "      <td>-1.152517</td>\n",
       "      <td>-0.905631</td>\n",
       "      <td>0.261418</td>\n",
       "      <td>1.159978</td>\n",
       "      <td>0.549386</td>\n",
       "    </tr>\n",
       "  </tbody>\n",
       "</table>\n",
       "</div>"
      ],
      "text/plain": [
       "            first_col  second_col  fourth_col  fifth_col  sixth_col\n",
       "first_row   -1.750843    2.148878    0.162298  -1.661847  -0.251763\n",
       "third_row    0.824605    0.269650    1.117688  -0.181822   1.410719\n",
       "fourth_row   0.076147   -0.681301    0.152366  -1.328998   2.037339\n",
       "fifth_row   -1.152517   -0.905631    0.261418   1.159978   0.549386"
      ]
     },
     "execution_count": 103,
     "metadata": {},
     "output_type": "execute_result"
    }
   ],
   "source": [
    "df1.drop('second_row', axis=0)"
   ]
  },
  {
   "cell_type": "code",
   "execution_count": 104,
   "id": "6e4d4ce7-74ce-4903-98eb-1f7aed8b8921",
   "metadata": {},
   "outputs": [],
   "source": [
    "df1.reset_index (inplace=True)"
   ]
  },
  {
   "cell_type": "code",
   "execution_count": 105,
   "id": "2a4dc100-f3b2-4ae4-8a33-b37dc64b4d53",
   "metadata": {},
   "outputs": [
    {
     "data": {
      "text/html": [
       "<div>\n",
       "<style scoped>\n",
       "    .dataframe tbody tr th:only-of-type {\n",
       "        vertical-align: middle;\n",
       "    }\n",
       "\n",
       "    .dataframe tbody tr th {\n",
       "        vertical-align: top;\n",
       "    }\n",
       "\n",
       "    .dataframe thead th {\n",
       "        text-align: right;\n",
       "    }\n",
       "</style>\n",
       "<table border=\"1\" class=\"dataframe\">\n",
       "  <thead>\n",
       "    <tr style=\"text-align: right;\">\n",
       "      <th></th>\n",
       "      <th>index</th>\n",
       "      <th>first_col</th>\n",
       "      <th>second_col</th>\n",
       "      <th>fourth_col</th>\n",
       "      <th>fifth_col</th>\n",
       "      <th>sixth_col</th>\n",
       "    </tr>\n",
       "  </thead>\n",
       "  <tbody>\n",
       "    <tr>\n",
       "      <th>0</th>\n",
       "      <td>first_row</td>\n",
       "      <td>-1.750843</td>\n",
       "      <td>2.148878</td>\n",
       "      <td>0.162298</td>\n",
       "      <td>-1.661847</td>\n",
       "      <td>-0.251763</td>\n",
       "    </tr>\n",
       "    <tr>\n",
       "      <th>1</th>\n",
       "      <td>second_row</td>\n",
       "      <td>-1.051633</td>\n",
       "      <td>-0.350029</td>\n",
       "      <td>2.302336</td>\n",
       "      <td>0.125937</td>\n",
       "      <td>0.587723</td>\n",
       "    </tr>\n",
       "    <tr>\n",
       "      <th>2</th>\n",
       "      <td>third_row</td>\n",
       "      <td>0.824605</td>\n",
       "      <td>0.269650</td>\n",
       "      <td>1.117688</td>\n",
       "      <td>-0.181822</td>\n",
       "      <td>1.410719</td>\n",
       "    </tr>\n",
       "    <tr>\n",
       "      <th>3</th>\n",
       "      <td>fourth_row</td>\n",
       "      <td>0.076147</td>\n",
       "      <td>-0.681301</td>\n",
       "      <td>0.152366</td>\n",
       "      <td>-1.328998</td>\n",
       "      <td>2.037339</td>\n",
       "    </tr>\n",
       "    <tr>\n",
       "      <th>4</th>\n",
       "      <td>fifth_row</td>\n",
       "      <td>-1.152517</td>\n",
       "      <td>-0.905631</td>\n",
       "      <td>0.261418</td>\n",
       "      <td>1.159978</td>\n",
       "      <td>0.549386</td>\n",
       "    </tr>\n",
       "  </tbody>\n",
       "</table>\n",
       "</div>"
      ],
      "text/plain": [
       "        index  first_col  second_col  fourth_col  fifth_col  sixth_col\n",
       "0   first_row  -1.750843    2.148878    0.162298  -1.661847  -0.251763\n",
       "1  second_row  -1.051633   -0.350029    2.302336   0.125937   0.587723\n",
       "2   third_row   0.824605    0.269650    1.117688  -0.181822   1.410719\n",
       "3  fourth_row   0.076147   -0.681301    0.152366  -1.328998   2.037339\n",
       "4   fifth_row  -1.152517   -0.905631    0.261418   1.159978   0.549386"
      ]
     },
     "execution_count": 105,
     "metadata": {},
     "output_type": "execute_result"
    }
   ],
   "source": [
    "df1"
   ]
  },
  {
   "cell_type": "code",
   "execution_count": 106,
   "id": "85977974-61c8-47ab-bc7a-30eb23dd986c",
   "metadata": {},
   "outputs": [],
   "source": [
    "df1['new_index'] = ['This', 'is', 'the', 'new', 'index']"
   ]
  },
  {
   "cell_type": "code",
   "execution_count": 107,
   "id": "dec8cdd5-1b1c-438e-b3e0-9e60407e476e",
   "metadata": {},
   "outputs": [
    {
     "data": {
      "text/html": [
       "<div>\n",
       "<style scoped>\n",
       "    .dataframe tbody tr th:only-of-type {\n",
       "        vertical-align: middle;\n",
       "    }\n",
       "\n",
       "    .dataframe tbody tr th {\n",
       "        vertical-align: top;\n",
       "    }\n",
       "\n",
       "    .dataframe thead th {\n",
       "        text-align: right;\n",
       "    }\n",
       "</style>\n",
       "<table border=\"1\" class=\"dataframe\">\n",
       "  <thead>\n",
       "    <tr style=\"text-align: right;\">\n",
       "      <th></th>\n",
       "      <th>index</th>\n",
       "      <th>first_col</th>\n",
       "      <th>second_col</th>\n",
       "      <th>fourth_col</th>\n",
       "      <th>fifth_col</th>\n",
       "      <th>sixth_col</th>\n",
       "      <th>new_index</th>\n",
       "    </tr>\n",
       "  </thead>\n",
       "  <tbody>\n",
       "    <tr>\n",
       "      <th>0</th>\n",
       "      <td>first_row</td>\n",
       "      <td>-1.750843</td>\n",
       "      <td>2.148878</td>\n",
       "      <td>0.162298</td>\n",
       "      <td>-1.661847</td>\n",
       "      <td>-0.251763</td>\n",
       "      <td>This</td>\n",
       "    </tr>\n",
       "    <tr>\n",
       "      <th>1</th>\n",
       "      <td>second_row</td>\n",
       "      <td>-1.051633</td>\n",
       "      <td>-0.350029</td>\n",
       "      <td>2.302336</td>\n",
       "      <td>0.125937</td>\n",
       "      <td>0.587723</td>\n",
       "      <td>is</td>\n",
       "    </tr>\n",
       "    <tr>\n",
       "      <th>2</th>\n",
       "      <td>third_row</td>\n",
       "      <td>0.824605</td>\n",
       "      <td>0.269650</td>\n",
       "      <td>1.117688</td>\n",
       "      <td>-0.181822</td>\n",
       "      <td>1.410719</td>\n",
       "      <td>the</td>\n",
       "    </tr>\n",
       "    <tr>\n",
       "      <th>3</th>\n",
       "      <td>fourth_row</td>\n",
       "      <td>0.076147</td>\n",
       "      <td>-0.681301</td>\n",
       "      <td>0.152366</td>\n",
       "      <td>-1.328998</td>\n",
       "      <td>2.037339</td>\n",
       "      <td>new</td>\n",
       "    </tr>\n",
       "    <tr>\n",
       "      <th>4</th>\n",
       "      <td>fifth_row</td>\n",
       "      <td>-1.152517</td>\n",
       "      <td>-0.905631</td>\n",
       "      <td>0.261418</td>\n",
       "      <td>1.159978</td>\n",
       "      <td>0.549386</td>\n",
       "      <td>index</td>\n",
       "    </tr>\n",
       "  </tbody>\n",
       "</table>\n",
       "</div>"
      ],
      "text/plain": [
       "        index  first_col  second_col  fourth_col  fifth_col  sixth_col  \\\n",
       "0   first_row  -1.750843    2.148878    0.162298  -1.661847  -0.251763   \n",
       "1  second_row  -1.051633   -0.350029    2.302336   0.125937   0.587723   \n",
       "2   third_row   0.824605    0.269650    1.117688  -0.181822   1.410719   \n",
       "3  fourth_row   0.076147   -0.681301    0.152366  -1.328998   2.037339   \n",
       "4   fifth_row  -1.152517   -0.905631    0.261418   1.159978   0.549386   \n",
       "\n",
       "  new_index  \n",
       "0      This  \n",
       "1        is  \n",
       "2       the  \n",
       "3       new  \n",
       "4     index  "
      ]
     },
     "execution_count": 107,
     "metadata": {},
     "output_type": "execute_result"
    }
   ],
   "source": [
    "df1"
   ]
  },
  {
   "cell_type": "code",
   "execution_count": 112,
   "id": "0e050bf3-1f55-41dd-a83e-e005f025ab89",
   "metadata": {},
   "outputs": [],
   "source": [
    "df1.set_index('new_index', inplace  = True)"
   ]
  },
  {
   "cell_type": "code",
   "execution_count": 113,
   "id": "91be1e62-090b-4838-a42a-d27ba20ea53a",
   "metadata": {},
   "outputs": [
    {
     "data": {
      "text/html": [
       "<div>\n",
       "<style scoped>\n",
       "    .dataframe tbody tr th:only-of-type {\n",
       "        vertical-align: middle;\n",
       "    }\n",
       "\n",
       "    .dataframe tbody tr th {\n",
       "        vertical-align: top;\n",
       "    }\n",
       "\n",
       "    .dataframe thead th {\n",
       "        text-align: right;\n",
       "    }\n",
       "</style>\n",
       "<table border=\"1\" class=\"dataframe\">\n",
       "  <thead>\n",
       "    <tr style=\"text-align: right;\">\n",
       "      <th></th>\n",
       "      <th>index</th>\n",
       "      <th>first_col</th>\n",
       "      <th>second_col</th>\n",
       "      <th>fourth_col</th>\n",
       "      <th>fifth_col</th>\n",
       "      <th>sixth_col</th>\n",
       "    </tr>\n",
       "    <tr>\n",
       "      <th>new_index</th>\n",
       "      <th></th>\n",
       "      <th></th>\n",
       "      <th></th>\n",
       "      <th></th>\n",
       "      <th></th>\n",
       "      <th></th>\n",
       "    </tr>\n",
       "  </thead>\n",
       "  <tbody>\n",
       "    <tr>\n",
       "      <th>This</th>\n",
       "      <td>first_row</td>\n",
       "      <td>-1.750843</td>\n",
       "      <td>2.148878</td>\n",
       "      <td>0.162298</td>\n",
       "      <td>-1.661847</td>\n",
       "      <td>-0.251763</td>\n",
       "    </tr>\n",
       "    <tr>\n",
       "      <th>is</th>\n",
       "      <td>second_row</td>\n",
       "      <td>-1.051633</td>\n",
       "      <td>-0.350029</td>\n",
       "      <td>2.302336</td>\n",
       "      <td>0.125937</td>\n",
       "      <td>0.587723</td>\n",
       "    </tr>\n",
       "    <tr>\n",
       "      <th>the</th>\n",
       "      <td>third_row</td>\n",
       "      <td>0.824605</td>\n",
       "      <td>0.269650</td>\n",
       "      <td>1.117688</td>\n",
       "      <td>-0.181822</td>\n",
       "      <td>1.410719</td>\n",
       "    </tr>\n",
       "    <tr>\n",
       "      <th>new</th>\n",
       "      <td>fourth_row</td>\n",
       "      <td>0.076147</td>\n",
       "      <td>-0.681301</td>\n",
       "      <td>0.152366</td>\n",
       "      <td>-1.328998</td>\n",
       "      <td>2.037339</td>\n",
       "    </tr>\n",
       "    <tr>\n",
       "      <th>index</th>\n",
       "      <td>fifth_row</td>\n",
       "      <td>-1.152517</td>\n",
       "      <td>-0.905631</td>\n",
       "      <td>0.261418</td>\n",
       "      <td>1.159978</td>\n",
       "      <td>0.549386</td>\n",
       "    </tr>\n",
       "  </tbody>\n",
       "</table>\n",
       "</div>"
      ],
      "text/plain": [
       "                index  first_col  second_col  fourth_col  fifth_col  sixth_col\n",
       "new_index                                                                     \n",
       "This        first_row  -1.750843    2.148878    0.162298  -1.661847  -0.251763\n",
       "is         second_row  -1.051633   -0.350029    2.302336   0.125937   0.587723\n",
       "the         third_row   0.824605    0.269650    1.117688  -0.181822   1.410719\n",
       "new        fourth_row   0.076147   -0.681301    0.152366  -1.328998   2.037339\n",
       "index       fifth_row  -1.152517   -0.905631    0.261418   1.159978   0.549386"
      ]
     },
     "execution_count": 113,
     "metadata": {},
     "output_type": "execute_result"
    }
   ],
   "source": [
    "df1"
   ]
  },
  {
   "cell_type": "code",
   "execution_count": 115,
   "id": "d60aeb74-6b5e-41ea-a4d8-b6770f7e4698",
   "metadata": {},
   "outputs": [],
   "source": [
    "#Joins"
   ]
  },
  {
   "cell_type": "code",
   "execution_count": null,
   "id": "67fe5ff9-eff1-44ad-9627-053598c1b295",
   "metadata": {},
   "outputs": [],
   "source": [
    "#left join\n",
    "#Right join\n",
    "#Inner join\n",
    "#Outer Join"
   ]
  },
  {
   "cell_type": "code",
   "execution_count": 116,
   "id": "50d20d41-f065-4092-84f8-b7f8a67635c3",
   "metadata": {},
   "outputs": [
    {
     "data": {
      "text/html": [
       "<div>\n",
       "<style scoped>\n",
       "    .dataframe tbody tr th:only-of-type {\n",
       "        vertical-align: middle;\n",
       "    }\n",
       "\n",
       "    .dataframe tbody tr th {\n",
       "        vertical-align: top;\n",
       "    }\n",
       "\n",
       "    .dataframe thead th {\n",
       "        text-align: right;\n",
       "    }\n",
       "</style>\n",
       "<table border=\"1\" class=\"dataframe\">\n",
       "  <thead>\n",
       "    <tr style=\"text-align: right;\">\n",
       "      <th></th>\n",
       "      <th>Q1</th>\n",
       "      <th>Q2</th>\n",
       "    </tr>\n",
       "  </thead>\n",
       "  <tbody>\n",
       "    <tr>\n",
       "      <th>I0</th>\n",
       "      <td>101</td>\n",
       "      <td>201</td>\n",
       "    </tr>\n",
       "    <tr>\n",
       "      <th>I1</th>\n",
       "      <td>102</td>\n",
       "      <td>202</td>\n",
       "    </tr>\n",
       "    <tr>\n",
       "      <th>I2</th>\n",
       "      <td>103</td>\n",
       "      <td>203</td>\n",
       "    </tr>\n",
       "  </tbody>\n",
       "</table>\n",
       "</div>"
      ],
      "text/plain": [
       "     Q1   Q2\n",
       "I0  101  201\n",
       "I1  102  202\n",
       "I2  103  203"
      ]
     },
     "execution_count": 116,
     "metadata": {},
     "output_type": "execute_result"
    }
   ],
   "source": [
    "df4 = pd.DataFrame({\"Q1\" : [101,102,103],\n",
    "              'Q2' : [201, 202, 203]},\n",
    "              index = ['I0','I1','I2']\n",
    "    \n",
    ")\n",
    "df4"
   ]
  },
  {
   "cell_type": "code",
   "execution_count": 117,
   "id": "b29850c7-eb51-4aa6-87c2-07e8da82e67f",
   "metadata": {},
   "outputs": [
    {
     "data": {
      "text/html": [
       "<div>\n",
       "<style scoped>\n",
       "    .dataframe tbody tr th:only-of-type {\n",
       "        vertical-align: middle;\n",
       "    }\n",
       "\n",
       "    .dataframe tbody tr th {\n",
       "        vertical-align: top;\n",
       "    }\n",
       "\n",
       "    .dataframe thead th {\n",
       "        text-align: right;\n",
       "    }\n",
       "</style>\n",
       "<table border=\"1\" class=\"dataframe\">\n",
       "  <thead>\n",
       "    <tr style=\"text-align: right;\">\n",
       "      <th></th>\n",
       "      <th>Q3</th>\n",
       "      <th>Q4</th>\n",
       "    </tr>\n",
       "  </thead>\n",
       "  <tbody>\n",
       "    <tr>\n",
       "      <th>I0</th>\n",
       "      <td>301</td>\n",
       "      <td>401</td>\n",
       "    </tr>\n",
       "    <tr>\n",
       "      <th>I2</th>\n",
       "      <td>302</td>\n",
       "      <td>402</td>\n",
       "    </tr>\n",
       "    <tr>\n",
       "      <th>I3</th>\n",
       "      <td>303</td>\n",
       "      <td>403</td>\n",
       "    </tr>\n",
       "  </tbody>\n",
       "</table>\n",
       "</div>"
      ],
      "text/plain": [
       "     Q3   Q4\n",
       "I0  301  401\n",
       "I2  302  402\n",
       "I3  303  403"
      ]
     },
     "execution_count": 117,
     "metadata": {},
     "output_type": "execute_result"
    }
   ],
   "source": [
    "df5 = pd.DataFrame({\"Q3\" : [301,302,303],\n",
    "              'Q4' : [401, 402, 403]},\n",
    "              index = ['I0','I2','I3']\n",
    "    \n",
    ")\n",
    "df5"
   ]
  },
  {
   "cell_type": "code",
   "execution_count": 118,
   "id": "2e25e2d5-996e-479f-be5a-caeeeb2d46f7",
   "metadata": {},
   "outputs": [
    {
     "data": {
      "text/html": [
       "<div>\n",
       "<style scoped>\n",
       "    .dataframe tbody tr th:only-of-type {\n",
       "        vertical-align: middle;\n",
       "    }\n",
       "\n",
       "    .dataframe tbody tr th {\n",
       "        vertical-align: top;\n",
       "    }\n",
       "\n",
       "    .dataframe thead th {\n",
       "        text-align: right;\n",
       "    }\n",
       "</style>\n",
       "<table border=\"1\" class=\"dataframe\">\n",
       "  <thead>\n",
       "    <tr style=\"text-align: right;\">\n",
       "      <th></th>\n",
       "      <th>Q1</th>\n",
       "      <th>Q2</th>\n",
       "      <th>Q3</th>\n",
       "      <th>Q4</th>\n",
       "    </tr>\n",
       "  </thead>\n",
       "  <tbody>\n",
       "    <tr>\n",
       "      <th>I0</th>\n",
       "      <td>101.0</td>\n",
       "      <td>201.0</td>\n",
       "      <td>301</td>\n",
       "      <td>401</td>\n",
       "    </tr>\n",
       "    <tr>\n",
       "      <th>I2</th>\n",
       "      <td>103.0</td>\n",
       "      <td>203.0</td>\n",
       "      <td>302</td>\n",
       "      <td>402</td>\n",
       "    </tr>\n",
       "    <tr>\n",
       "      <th>I3</th>\n",
       "      <td>NaN</td>\n",
       "      <td>NaN</td>\n",
       "      <td>303</td>\n",
       "      <td>403</td>\n",
       "    </tr>\n",
       "  </tbody>\n",
       "</table>\n",
       "</div>"
      ],
      "text/plain": [
       "       Q1     Q2   Q3   Q4\n",
       "I0  101.0  201.0  301  401\n",
       "I2  103.0  203.0  302  402\n",
       "I3    NaN    NaN  303  403"
      ]
     },
     "execution_count": 118,
     "metadata": {},
     "output_type": "execute_result"
    }
   ],
   "source": [
    "df4.join(df5, how = 'right')"
   ]
  },
  {
   "cell_type": "code",
   "execution_count": 119,
   "id": "2cc82b17-d0ec-4052-8794-038cfd5f7baf",
   "metadata": {},
   "outputs": [
    {
     "data": {
      "text/html": [
       "<div>\n",
       "<style scoped>\n",
       "    .dataframe tbody tr th:only-of-type {\n",
       "        vertical-align: middle;\n",
       "    }\n",
       "\n",
       "    .dataframe tbody tr th {\n",
       "        vertical-align: top;\n",
       "    }\n",
       "\n",
       "    .dataframe thead th {\n",
       "        text-align: right;\n",
       "    }\n",
       "</style>\n",
       "<table border=\"1\" class=\"dataframe\">\n",
       "  <thead>\n",
       "    <tr style=\"text-align: right;\">\n",
       "      <th></th>\n",
       "      <th>Q1</th>\n",
       "      <th>Q2</th>\n",
       "      <th>Q3</th>\n",
       "      <th>Q4</th>\n",
       "    </tr>\n",
       "  </thead>\n",
       "  <tbody>\n",
       "    <tr>\n",
       "      <th>I0</th>\n",
       "      <td>101</td>\n",
       "      <td>201</td>\n",
       "      <td>301.0</td>\n",
       "      <td>401.0</td>\n",
       "    </tr>\n",
       "    <tr>\n",
       "      <th>I1</th>\n",
       "      <td>102</td>\n",
       "      <td>202</td>\n",
       "      <td>NaN</td>\n",
       "      <td>NaN</td>\n",
       "    </tr>\n",
       "    <tr>\n",
       "      <th>I2</th>\n",
       "      <td>103</td>\n",
       "      <td>203</td>\n",
       "      <td>302.0</td>\n",
       "      <td>402.0</td>\n",
       "    </tr>\n",
       "  </tbody>\n",
       "</table>\n",
       "</div>"
      ],
      "text/plain": [
       "     Q1   Q2     Q3     Q4\n",
       "I0  101  201  301.0  401.0\n",
       "I1  102  202    NaN    NaN\n",
       "I2  103  203  302.0  402.0"
      ]
     },
     "execution_count": 119,
     "metadata": {},
     "output_type": "execute_result"
    }
   ],
   "source": [
    "df4.join(df5, how = 'left')"
   ]
  },
  {
   "cell_type": "code",
   "execution_count": 120,
   "id": "2f767da0-5b94-456e-9f34-693dd0f0c1fd",
   "metadata": {},
   "outputs": [
    {
     "data": {
      "text/html": [
       "<div>\n",
       "<style scoped>\n",
       "    .dataframe tbody tr th:only-of-type {\n",
       "        vertical-align: middle;\n",
       "    }\n",
       "\n",
       "    .dataframe tbody tr th {\n",
       "        vertical-align: top;\n",
       "    }\n",
       "\n",
       "    .dataframe thead th {\n",
       "        text-align: right;\n",
       "    }\n",
       "</style>\n",
       "<table border=\"1\" class=\"dataframe\">\n",
       "  <thead>\n",
       "    <tr style=\"text-align: right;\">\n",
       "      <th></th>\n",
       "      <th>Q1</th>\n",
       "      <th>Q2</th>\n",
       "      <th>Q3</th>\n",
       "      <th>Q4</th>\n",
       "    </tr>\n",
       "  </thead>\n",
       "  <tbody>\n",
       "    <tr>\n",
       "      <th>I0</th>\n",
       "      <td>101.0</td>\n",
       "      <td>201.0</td>\n",
       "      <td>301.0</td>\n",
       "      <td>401.0</td>\n",
       "    </tr>\n",
       "    <tr>\n",
       "      <th>I1</th>\n",
       "      <td>102.0</td>\n",
       "      <td>202.0</td>\n",
       "      <td>NaN</td>\n",
       "      <td>NaN</td>\n",
       "    </tr>\n",
       "    <tr>\n",
       "      <th>I2</th>\n",
       "      <td>103.0</td>\n",
       "      <td>203.0</td>\n",
       "      <td>302.0</td>\n",
       "      <td>402.0</td>\n",
       "    </tr>\n",
       "    <tr>\n",
       "      <th>I3</th>\n",
       "      <td>NaN</td>\n",
       "      <td>NaN</td>\n",
       "      <td>303.0</td>\n",
       "      <td>403.0</td>\n",
       "    </tr>\n",
       "  </tbody>\n",
       "</table>\n",
       "</div>"
      ],
      "text/plain": [
       "       Q1     Q2     Q3     Q4\n",
       "I0  101.0  201.0  301.0  401.0\n",
       "I1  102.0  202.0    NaN    NaN\n",
       "I2  103.0  203.0  302.0  402.0\n",
       "I3    NaN    NaN  303.0  403.0"
      ]
     },
     "execution_count": 120,
     "metadata": {},
     "output_type": "execute_result"
    }
   ],
   "source": [
    "df4.join(df5, how = 'outer')"
   ]
  },
  {
   "cell_type": "code",
   "execution_count": 121,
   "id": "82f29860-1eeb-4682-9571-9c9d1e254c6a",
   "metadata": {},
   "outputs": [
    {
     "data": {
      "text/html": [
       "<div>\n",
       "<style scoped>\n",
       "    .dataframe tbody tr th:only-of-type {\n",
       "        vertical-align: middle;\n",
       "    }\n",
       "\n",
       "    .dataframe tbody tr th {\n",
       "        vertical-align: top;\n",
       "    }\n",
       "\n",
       "    .dataframe thead th {\n",
       "        text-align: right;\n",
       "    }\n",
       "</style>\n",
       "<table border=\"1\" class=\"dataframe\">\n",
       "  <thead>\n",
       "    <tr style=\"text-align: right;\">\n",
       "      <th></th>\n",
       "      <th>Q1</th>\n",
       "      <th>Q2</th>\n",
       "      <th>Q3</th>\n",
       "      <th>Q4</th>\n",
       "    </tr>\n",
       "  </thead>\n",
       "  <tbody>\n",
       "    <tr>\n",
       "      <th>I0</th>\n",
       "      <td>101</td>\n",
       "      <td>201</td>\n",
       "      <td>301</td>\n",
       "      <td>401</td>\n",
       "    </tr>\n",
       "    <tr>\n",
       "      <th>I2</th>\n",
       "      <td>103</td>\n",
       "      <td>203</td>\n",
       "      <td>302</td>\n",
       "      <td>402</td>\n",
       "    </tr>\n",
       "  </tbody>\n",
       "</table>\n",
       "</div>"
      ],
      "text/plain": [
       "     Q1   Q2   Q3   Q4\n",
       "I0  101  201  301  401\n",
       "I2  103  203  302  402"
      ]
     },
     "execution_count": 121,
     "metadata": {},
     "output_type": "execute_result"
    }
   ],
   "source": [
    "df4.join(df5, how = 'inner')"
   ]
  },
  {
   "cell_type": "code",
   "execution_count": null,
   "id": "3b405092-78d1-4754-b21b-09f5eb1fc272",
   "metadata": {},
   "outputs": [],
   "source": []
  },
  {
   "cell_type": "code",
   "execution_count": null,
   "id": "f110825b-35cf-4fab-be1b-636b170824da",
   "metadata": {},
   "outputs": [],
   "source": []
  },
  {
   "cell_type": "code",
   "execution_count": null,
   "id": "94e3ecdf-dafc-43ab-b22b-f559e51dd617",
   "metadata": {},
   "outputs": [],
   "source": []
  },
  {
   "cell_type": "code",
   "execution_count": null,
   "id": "d91bb608-99f3-461b-86bc-dfa7d8a08d2a",
   "metadata": {},
   "outputs": [],
   "source": []
  },
  {
   "cell_type": "code",
   "execution_count": null,
   "id": "47699b0c-35ac-4c99-ba0a-0b8ac6ddb33b",
   "metadata": {},
   "outputs": [],
   "source": []
  }
 ],
 "metadata": {
  "kernelspec": {
   "display_name": "Python 3 (ipykernel)",
   "language": "python",
   "name": "python3"
  },
  "language_info": {
   "codemirror_mode": {
    "name": "ipython",
    "version": 3
   },
   "file_extension": ".py",
   "mimetype": "text/x-python",
   "name": "python",
   "nbconvert_exporter": "python",
   "pygments_lexer": "ipython3",
   "version": "3.12.7"
  }
 },
 "nbformat": 4,
 "nbformat_minor": 5
}
